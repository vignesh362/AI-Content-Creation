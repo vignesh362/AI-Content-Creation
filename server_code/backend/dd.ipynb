{
 "cells": [
  {
   "cell_type": "code",
   "execution_count": null,
   "metadata": {},
   "outputs": [],
   "source": []
  },
  {
   "cell_type": "code",
   "execution_count": 1,
   "metadata": {},
   "outputs": [],
   "source": [
    "L=\"\"\" \n",
    "[{\"Human\": \"Okay, so for our next video, we're going to explore satisfying tech products on the internet.\"},\n",
    " {\"Bot\": \"Sounds like a fun idea! Let's start by checking out some cool gadgets people are raving about online.\"}]\n",
    "\n",
    "[{\"Human\": \"I found this video showcasing some high-tech gadgets that are supposed to be extremely satisfying.\"},\n",
    " {\"Bot\": \"Oh, that sounds interesting. Do you want me to look for a particular product or category?\"}]\n",
    "\n",
    "[{\"Human\": \"Let's start with kitchen gadgets. I mean, who doesn't love finding new ways to make cooking more enjoyable and efficient?\"},\n",
    " {\"Bot\": \"Great choice! Here's a levitating fruit and vegetable slicer that looks like it could be perfect for satisfying your kitchen needs.\"}]\n",
    "\n",
    "[{\"Human\": \"Wow, that is impressive. It seems like every year we get more innovative with our cooking tools.\"},\n",
    " {\"Bot\": \"Indeed! Another interesting product I found is an automatic zen garden sandbar. It can create stunning patterns in your sand while you relax and watch.\"}]\n",
    "\n",
    "[{\"Human\": \"I love the idea of automating my zen experiences. Let's add that to our list for sure.\"},\n",
    " {\"Bot\": \"I think it's a great choice! How about we also check out some bedroom gadgets? After all, who says technology can't help us relax and unwind?\"}]\n",
    "\n",
    "[{\"Human\": \"That sounds like a fantastic idea. I am always on the lookout for ways to improve my sleep or create a more calming environment.\"},\n",
    " {\"Bot\": \"Great! Here's an automatic zen sand bar that you can use in your bedroom. The soothing sound of moving sand is known to help with relaxation and stress relief.\"}]\n",
    "\n",
    "[{\"Human\": \"This is definitely getting added to the shopping list. Now, let's not forget about those satisfying unboxing videos we love so much. Do you have any suggestions for products that would be fun to unbox?\"},\n",
    " {\"Bot\": \"Of course! How about a form box [{\"Human\": \"Welcome to our series on hilariously awkward tech fails!\"}, {\"Bot\": \"Thank you for having me! Let's dive right in.\"}] \n",
    "\n",
    "[{\"Human\": \"Today, we're looking at the top 14 most embarrassing tech flops of all time. These are going to be cringe-worthy, so get ready!\"}, {\"Bot\": \"I am fully prepared with my popcorn and a comfy chair.\"}]\n",
    "\n",
    "[{\"Human\": \"First up is the Air Umbrella. Remember that one from a few years ago?\"}, {\"Bot\": \"Oh yes! The idea was to create an umbrella powered by air instead of fabric, right? It had a lot of hype initially, but unfortunately, it didn't work out as planned.\"}]\n",
    "\n",
    "[{\"Human\": \"Yeah... it didn't really. The main issue was that the air it produced wasn't strong enough to repel rain effectively. Plus, it looked pretty silly!\"}, {\"Bot\": \"Haha, yes! I remember seeing videos of people trying to use them during light showers, and the air just couldn't compete with the rainfall.\"}]\n",
    "\n",
    "[{\"Human\": \"Anyway, moving on from there... how about we talk about Laundroid? That thing was supposed to be a robot that could do your laundry for you!\"}, {\"Bot\": \"Oh yes! I remember seeing those commercials with people being amazed at how this futuristic machine could fold their clothes so neatly. But, as it turned out...\"}}\n",
    "\n",
    "[{\"Human\": \"...it couldn't handle the most basic of tasks, like separating colors or even folding some items properly.\"}, {\"Bot\": \"Exactly! It was supposed to be ahead of its time with advanced AI and technology, but it just couldn't live up to the hype.\"}}\n",
    "\n",
    "[{\"Human\": \"And let's not forget about the Apple AirPower charging pad. Remember that one?\"}, {\"Bot\": \"Oh yes! That was quite a flop. It was supposed to be a wireless charger for all your Apple devices, but it never made [{\"Human\": \"Topic: Minimalist Tech\",\n",
    "  \"Bot\": \"Let's start with minimalistic laptops. Have you considered the HP Spectre Folio? It transforms into a tablet or stand-alone PC and has an all-screen design.\"},\n",
    "\n",
    "{\"Human\": \"I like that idea, but what about the most minimalist TV?\",\n",
    " \"Bot\": \"Well, LG has something interesting with their Easel TV. It can be rotated from a flat screen to a vertical position, taking up less space when not in use.\"},\n",
    "\n",
    "{\"Human\": \"That's definitely more what I had in mind. How about phones? Any recommendations for minimalistic phones?\" ,\n",
    " \"Bot\": \"The Light Phone 2 is worth checking out. It doesn't have any social media, internet browser or other distractions - just calls and texts.\"},\n",
    "\n",
    "{\"Human\": \"I'm also curious about gaming consoles. Is there anything minimalistic in that space?\" ,\n",
    " \"Bot\": \"The PlayDate by Panic is a handheld console with a black-and-white screen, promising a new kind of gaming experience.\"},\n",
    "\n",
    "{\"Human\": \"That sounds intriguing. What about speakers? Are there any minimalist options out there?\" ,\n",
    " \"Bot\": \"Samsung's Music Frame speaker blends in seamlessly with your home decor, designed to look like a picture frame while delivering full range Ultra wide sound.\"},\n",
    "\n",
    "{\"Human\": \"And lastly, what about record players? Any minimalistic options there?\" ,\n",
    " \"Bot\": \"The Wheel by Thorens plays records from the back and hides all its technology underneath. It's a great example of true minimalism in audio equipment.\"}]\n",
    "\"\"\""
   ]
  },
  {
   "cell_type": "code",
   "execution_count": 2,
   "metadata": {},
   "outputs": [
    {
     "name": "stdout",
     "output_type": "stream",
     "text": [
      "<class 'str'>\n"
     ]
    }
   ],
   "source": [
    "import re\n",
    "import json\n",
    "def format_json(L):\n",
    "    json_blocks = re.findall(r'\\[(\\{.*?\\})\\]', L, re.DOTALL)\n",
    "    combined_dialogs=[]\n",
    "    s=''\n",
    "    for block in json_blocks:\n",
    "        try:\n",
    "            parsed=json.loads(f\"[{block}]\")\n",
    "            combined_dialogs.extend(parsed)\n",
    "        except Exception as e:\n",
    "            print(f\"skipped\")\n",
    "    for pair in combined_dialogs:\n",
    "        for speaker,line in pair.items():\n",
    "            s+=f\"{speaker}:{line}\\n\"\n",
    "    return s\n",
    "        "
   ]
  }
 ],
 "metadata": {
  "kernelspec": {
   "display_name": "ven",
   "language": "python",
   "name": "python3"
  },
  "language_info": {
   "codemirror_mode": {
    "name": "ipython",
    "version": 3
   },
   "file_extension": ".py",
   "mimetype": "text/x-python",
   "name": "python",
   "nbconvert_exporter": "python",
   "pygments_lexer": "ipython3",
   "version": "3.12.8"
  }
 },
 "nbformat": 4,
 "nbformat_minor": 2
}
